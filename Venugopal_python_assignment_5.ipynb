{
  "nbformat": 4,
  "nbformat_minor": 0,
  "metadata": {
    "colab": {
      "provenance": [],
      "include_colab_link": true
    },
    "kernelspec": {
      "name": "python3",
      "display_name": "Python 3"
    },
    "language_info": {
      "name": "python"
    }
  },
  "cells": [
    {
      "cell_type": "markdown",
      "metadata": {
        "id": "view-in-github",
        "colab_type": "text"
      },
      "source": [
        "<a href=\"https://colab.research.google.com/github/venugopal2k03/Python_Assignment/blob/main/Venugopal_python_assignment_5.ipynb\" target=\"_parent\"><img src=\"https://colab.research.google.com/assets/colab-badge.svg\" alt=\"Open In Colab\"/></a>"
      ]
    },
    {
      "cell_type": "markdown",
      "source": [],
      "metadata": {
        "id": "USNZDFIxutWR"
      }
    },
    {
      "cell_type": "markdown",
      "source": [
        "Task -1\n",
        "\n",
        "1.\tRead and Display Contents: Write a Python script to open a file named data.txt and display its contents. Handle the scenario where the file does not exist."
      ],
      "metadata": {
        "id": "ptzX_dUBapZo"
      }
    },
    {
      "cell_type": "code",
      "execution_count": null,
      "metadata": {
        "colab": {
          "base_uri": "https://localhost:8080/",
          "height": 159
        },
        "id": "LlfzADxbqD-K",
        "outputId": "29796662-a304-43ff-ca78-98920730dfe7"
      },
      "outputs": [
        {
          "output_type": "error",
          "ename": "FileNotFoundError",
          "evalue": "[Errno 2] No such file or directory: '/data.txt'",
          "traceback": [
            "\u001b[0;31m---------------------------------------------------------------------------\u001b[0m",
            "\u001b[0;31mFileNotFoundError\u001b[0m                         Traceback (most recent call last)",
            "\u001b[0;32m<ipython-input-3-505f278fb808>\u001b[0m in \u001b[0;36m<cell line: 1>\u001b[0;34m()\u001b[0m\n\u001b[0;32m----> 1\u001b[0;31m \u001b[0;32mwith\u001b[0m \u001b[0mopen\u001b[0m\u001b[0;34m(\u001b[0m\u001b[0;34m\"/data.txt\"\u001b[0m\u001b[0;34m,\u001b[0m\u001b[0;34m'r'\u001b[0m\u001b[0;34m)\u001b[0m \u001b[0;32mas\u001b[0m \u001b[0mfp\u001b[0m\u001b[0;34m:\u001b[0m \u001b[0;31m#opening the file\u001b[0m\u001b[0;34m\u001b[0m\u001b[0;34m\u001b[0m\u001b[0m\n\u001b[0m\u001b[1;32m      2\u001b[0m   \u001b[0mprint\u001b[0m\u001b[0;34m(\u001b[0m\u001b[0mfp\u001b[0m\u001b[0;34m.\u001b[0m\u001b[0mread\u001b[0m\u001b[0;34m(\u001b[0m\u001b[0;34m)\u001b[0m\u001b[0;34m)\u001b[0m \u001b[0;31m#printing the contents of the file named data_txt.\u001b[0m\u001b[0;34m\u001b[0m\u001b[0;34m\u001b[0m\u001b[0m\n",
            "\u001b[0;31mFileNotFoundError\u001b[0m: [Errno 2] No such file or directory: '/data.txt'"
          ]
        }
      ],
      "source": [
        "with open(\"/data.txt\",'r') as fp: #opening the file\n",
        "  print(fp.read()) #printing the contents of the file named data_txt."
      ]
    },
    {
      "cell_type": "code",
      "source": [
        "try:\n",
        "  with open(\"/data_sample.txt\",'r') as data:#opening the file for reading\n",
        "    print(data.read()) #printing the contents of the file named data_sample.txt.\n",
        "except:\n",
        "  print(\"file doesn't exist\") #printing else condition"
      ],
      "metadata": {
        "colab": {
          "base_uri": "https://localhost:8080/"
        },
        "id": "kuCjTcJixumO",
        "outputId": "205e7af5-823f-4737-e639-4091912a43ac"
      },
      "execution_count": null,
      "outputs": [
        {
          "output_type": "stream",
          "name": "stdout",
          "text": [
            "file doesn't exist\n"
          ]
        }
      ]
    },
    {
      "cell_type": "markdown",
      "source": [
        "2.\tWrite to a File: Create a new file named output.txt and write the following text: “Python File Handling is powerful!”"
      ],
      "metadata": {
        "id": "TQoQR45javb5"
      }
    },
    {
      "cell_type": "code",
      "source": [
        "with open(\"/ouput.txt\",\"a\") as out: #opening the file for appending\n",
        "  out.write(\"\\n Python File Handling is powerful!\") #appending the information to a file named output.txt"
      ],
      "metadata": {
        "id": "myfnHDLltoQX"
      },
      "execution_count": null,
      "outputs": []
    },
    {
      "cell_type": "markdown",
      "source": [
        "Task - 2"
      ],
      "metadata": {
        "id": "YDVSs0yNu3fq"
      }
    },
    {
      "cell_type": "markdown",
      "source": [
        "1.\tAppend Data: Append the following sentence to the file output.txt: “Appending new information.”"
      ],
      "metadata": {
        "id": "kCvlGx3ga2pt"
      }
    },
    {
      "cell_type": "code",
      "source": [
        "with open (\"/ouput.txt\",\"w\") as out: #opening the file for writing\n",
        "  out.write(\"\\n Appending new information.\") #writing a new line to the file called output.txt"
      ],
      "metadata": {
        "id": "zKUZjGc2u54G"
      },
      "execution_count": null,
      "outputs": []
    },
    {
      "cell_type": "markdown",
      "source": [
        "2.\tRead and Write: Open data.txt in a mode that allows you to read its content and add a new line at the end: “This is a new line.”"
      ],
      "metadata": {
        "id": "eD3afsfEa7ow"
      }
    },
    {
      "cell_type": "code",
      "source": [
        "with open(\"/data.txt\",'r') as data: #opening the file for reading\n",
        "  print(data.read()) #rreading the file data.txt\n",
        "with open(\"/ouput.txt\",\"a\") as data: #opening the file for appending\n",
        "  data.write(\"\\n This is new new line\") #appending the information to a file named output.txt"
      ],
      "metadata": {
        "colab": {
          "base_uri": "https://localhost:8080/"
        },
        "id": "PUXp7yhTvS-J",
        "outputId": "40962e7e-5a46-4cfa-b35f-dfe71e017daf"
      },
      "execution_count": null,
      "outputs": [
        {
          "output_type": "stream",
          "name": "stdout",
          "text": [
            "hello world\n",
            "hi every one\n"
          ]
        }
      ]
    },
    {
      "cell_type": "markdown",
      "source": [
        "Task - 3"
      ],
      "metadata": {
        "id": "qz2LrHTdxsoi"
      }
    },
    {
      "cell_type": "markdown",
      "source": [
        "1.\tLarge File Processing: Assume large_data.txt is a large file. Write a script to read and print the first 100 lines of the file. If the file has fewer than 100 lines, handle this gracefully without throwing an error."
      ],
      "metadata": {
        "id": "baoPzy3Ua9Bv"
      }
    },
    {
      "cell_type": "code",
      "source": [
        "try:\n",
        "  with open(\"large data.txt\",'r') as ld:\n",
        "    count = 0 #variable for storing number of lines\n",
        "    for line in ld: #iterating through each line\n",
        "      if count <= 100: #condition if the line count is increased by 100 stops\n",
        "        print(line) #printing the lines of the file large data.txt\n",
        "        count += 1 #incrementing the count of the lines\n",
        "except FileNotFoundError:\n",
        "  # If the file is not found, and fewer than 100 lines were printed\n",
        "      if count < 100:\n",
        "          raise FileNotFoundError # Re-raise FileNotFoundError to indicate the issue"
      ],
      "metadata": {
        "id": "jHe5rvIgzuKj",
        "colab": {
          "base_uri": "https://localhost:8080/"
        },
        "outputId": "bf1e7ceb-b553-44b3-9027-fb5fa867f02f"
      },
      "execution_count": null,
      "outputs": [
        {
          "output_type": "stream",
          "name": "stdout",
          "text": [
            "HTML CSS JAVASCRIPT SQL PYTHON JAVA PHP HOW TO W3.CSS C C++ C# BOOTSTRAP REACT MYSQL JQUERY EXCEL XML DJANGO NUMPY PANDAS NODEJS R TYPESCRIPT ANGULAR GIT POSTGRESQL MONGODB ASP AWS AI GO KOTLIN SASS VUE GEN AI SCIPY CYBERSECURITY DATA SCIENCE \n",
            "\n",
            "\n",
            "\n",
            "\n",
            "\n",
            "\n",
            "\n",
            "Python os Module\n",
            "\n",
            "\n",
            "\n",
            "Python os Module\n",
            "\n",
            "\n",
            "\n",
            "Python has a built-in os module with methods for interacting with the operating system, like creating files and directories, management of files and directories, input, output, environment variables, process management, etc.\n",
            "\n",
            "\n",
            "\n",
            "\n",
            "\n",
            "\n",
            "\n",
            "The os module has the following set of methods and constants.\n",
            "\n",
            "\n",
            "\n",
            "\n",
            "\n",
            "\n",
            "\n",
            "OS Methods\n",
            "\n",
            "\n",
            "\n",
            "Method\tDescription\n",
            "\n",
            "\n",
            "\n",
            "os._exit()\tExits the process with the specified status\n",
            "\n",
            "\n",
            "\n",
            "os.abort()\tTerminates a running process immediately\n",
            "\n",
            "\n",
            "\n",
            "os.access()\tUses the real uid/gid to check access to a path\n",
            "\n",
            "\n",
            "\n",
            "os.add_dll_directory()\tAdds a path to the DLL search path\n",
            "\n",
            "\n",
            "\n",
            "os.chdir()\tChange the current working directory\n",
            "\n",
            "\n",
            "\n",
            "os.chflags()\tSets the flags of path to the numeric flags\n",
            "\n",
            "\n",
            "\n",
            "os.chmod()\tChanges the mode of path to the numeric mode\n",
            "\n",
            "\n",
            "\n",
            "os.chown()\tChanges the owner and group id of a specified path to the specified numeric owner id and group id\n",
            "\n",
            "\n",
            "\n",
            "os.chroot()\tChanges the root directory of the current process to a specified path\n",
            "\n",
            "\n",
            "\n",
            "os.close()\tCloses the specified file descriptor\n",
            "\n",
            "\n",
            "\n",
            "os.closerange()\tCloses all file descriptors from fd_low to fd_high\n",
            "\n",
            "\n",
            "\n",
            "os.confstr()\tReturns string-valued system configuration values\n",
            "\n",
            "\n",
            "\n",
            "os.cpu_count()\tReturns the number of CPUs present in the system\n",
            "\n",
            "\n",
            "\n",
            "os.ctermid()\tReturns the filename associated with the controlling terminal of the process\n",
            "\n",
            "\n",
            "\n",
            "os.device_encoding()\tReturns the encoding of the device associated with the file descriptor, if it is connected to a terminal\n",
            "\n",
            "\n",
            "\n",
            "os.dup()\tDuplicates a file descriptor\n",
            "\n",
            "\n",
            "\n",
            "os.dup2()\t Duplicates a file descriptor to a given value\n",
            "\n",
            "\n",
            "\n",
            "os.fchdir()\tChanges the current working directory to a directory opened by os.open()\n",
            "\n",
            "\n",
            "\n",
            "os.fchmod()\tChanges the mode of a file to the specified numeric mode\n",
            "\n",
            "\n",
            "\n",
            "os.fchown()\tChanges the owner and group id of a file to the numeric uid and gid\n",
            "\n",
            "\n",
            "\n",
            "os.fdatasync()\tForces write of file to disc - not forces update of metadata\n",
            "\n",
            "\n",
            "\n",
            "os.fdopen()\tReturns an open file object connected to a file\n",
            "\n",
            "\n",
            "\n",
            "os.fork()\tForks a child process\n",
            "\n",
            "\n",
            "\n",
            "os.forkpty()\tForks a child process, using a new pseudo-terminal as the child's controlling terminal\n",
            "\n",
            "\n",
            "\n",
            "os.fpathconf()\tReturns system configuration information relevant to an open file\n",
            "\n",
            "\n",
            "\n",
            "os.fsdecode()\tDecodes a file path\n",
            "\n",
            "\n",
            "\n",
            "os.fsencode()\tEncodes a file path\n",
            "\n",
            "\n",
            "\n",
            "os.fspath()\tReturns the file system representation of a path\n",
            "\n",
            "\n",
            "\n",
            "os.fstat()\tReturns the status of a file\n",
            "\n",
            "\n",
            "\n",
            "os.fstatvfs()\tReturns information about the file system of a file\n",
            "\n",
            "\n",
            "\n",
            "os.fsync()\tForces write of file with file descriptor fd to disk\n",
            "\n",
            "\n",
            "\n",
            "os.ftruncate()\tTruncates a file to a specified length\n",
            "\n",
            "\n",
            "\n",
            "os.fwalk()\t \n",
            "\n",
            "\n",
            "\n",
            "os.get_blocking()\tReturns the blocking mode information of the file descriptor\n",
            "\n",
            "\n",
            "\n",
            "os.get_exec_path()\tReturns a list of directories, in which the system looks for named executable programs\n",
            "\n",
            "\n",
            "\n",
            "os.get_handle_inheritable()\t \n",
            "\n",
            "\n",
            "\n",
            "os.get_inheritable()\tReturns the inheritable flag of the file descriptor\n",
            "\n",
            "\n",
            "\n",
            "os.get_terminal_size()\tReturns the size of a terminal as a pair of columns and lines\n",
            "\n",
            "\n",
            "\n",
            "os.getcwd()\tReturns the current working directory\n",
            "\n",
            "\n",
            "\n",
            "os.getcwdb()\tReturns the current working directory in bytestring\n",
            "\n",
            "\n",
            "\n",
            "os.getegid()\tReturn the effective group id of the current process\n",
            "\n"
          ]
        }
      ]
    },
    {
      "cell_type": "markdown",
      "source": [
        "Task - 4"
      ],
      "metadata": {
        "id": "MCtjUolcZFv4"
      }
    },
    {
      "cell_type": "markdown",
      "source": [
        "1.\tException Handling: Modify the script from Task 1 to handle any exceptions that might occur during file operations, such as FileNotFoundError or PermissionError."
      ],
      "metadata": {
        "id": "1uHJ0dZabBTv"
      }
    },
    {
      "cell_type": "code",
      "source": [
        "file_name = \"data.txt\" #here assigning the file .\n",
        "try:\n",
        "    with open(file_name, 'r') as file: #opening the file\n",
        "        inputdata= file.read() #reading the file and the contents in the file data.txt is assigned\n",
        "        print(f\"Contents of {file_name}:\\t{inputdata}\")\n",
        "except Exception as error: #it prints as  since the file is removed.\n",
        "    print(f\"permission error\")\n"
      ],
      "metadata": {
        "colab": {
          "base_uri": "https://localhost:8080/"
        },
        "id": "Q6DlKHsQY4d-",
        "outputId": "9758210d-5fe0-40e9-f62e-e5ed37c4ac64"
      },
      "execution_count": null,
      "outputs": [
        {
          "output_type": "stream",
          "name": "stdout",
          "text": [
            "permission error\n"
          ]
        }
      ]
    },
    {
      "cell_type": "markdown",
      "source": [
        "Task - 5"
      ],
      "metadata": {
        "id": "fNqd6suSZFiH"
      }
    },
    {
      "cell_type": "markdown",
      "source": [
        "1.\tFile Existence Check: Write a script to check if a file named check.txt exists. If it exists, delete the file. If it does not, create it with the content “This is a new file.”"
      ],
      "metadata": {
        "id": "_ymC3HiPbGeI"
      }
    },
    {
      "cell_type": "code",
      "source": [
        "file = \"check.txt\"\n",
        "text=\"this is new file\"\n",
        "try:  # Open the file in 'w' (write) mode and use the variable name 'file' for the file object\n",
        "  with open(file,'w') as file:  # Write the text to the file\n",
        "    data=file.write() # Write the text to the file\n",
        "    print(f\"contents of {file}: {data}\") # Print the contents of the file and the number of characters written\n",
        "except Exception as error:\n",
        "  # If an exception occurs, print an error message\n",
        "    print(f\"it is error\")"
      ],
      "metadata": {
        "colab": {
          "base_uri": "https://localhost:8080/"
        },
        "id": "xMnAX-8MZOpl",
        "outputId": "5be261ac-0daa-4a3d-974a-4268920132df"
      },
      "execution_count": null,
      "outputs": [
        {
          "output_type": "stream",
          "name": "stdout",
          "text": [
            "it is error\n"
          ]
        }
      ]
    },
    {
      "cell_type": "code",
      "source": [
        "file=open('check.txt') #opening the file check.txt"
      ],
      "metadata": {
        "id": "s6YpKOt5Z20v"
      },
      "execution_count": null,
      "outputs": []
    },
    {
      "cell_type": "code",
      "source": [
        "import os #importing the library os\n",
        "os.remove('check.txt')#removing the file check.txt"
      ],
      "metadata": {
        "id": "y4_sOVAoZ3vi"
      },
      "execution_count": null,
      "outputs": []
    },
    {
      "cell_type": "code",
      "source": [
        "file=open('check.txt')#opening the file check.txt"
      ],
      "metadata": {
        "id": "xtrzU5h0eOvF"
      },
      "execution_count": null,
      "outputs": []
    },
    {
      "cell_type": "markdown",
      "source": [
        "2.\tFile Rename: Write a script to rename an existing file old_name.txt to new_name.txt. Ensure your script checks if old_name.txt exists and if new_name.txt already exists."
      ],
      "metadata": {
        "id": "CB-ZzrXwaEQv"
      }
    },
    {
      "cell_type": "code",
      "source": [
        "file=\"old_name.txt\"\n",
        "with open('old_name.txt', 'a') as file:\n",
        "    file.write(\"\\n new info.\") # Appending text to the file\n",
        "file_name = \"old_name.txt\" #here assigning the file name .\n",
        "try:\n",
        "    with open(file, 'r') as file: #opening the file\n",
        "        inputdata= file.read()\n",
        "        print(f\"Contents of {file}:\\t{inputdata}\") #printing the contents of the file\n",
        "except Exception as error:\n",
        "    print(f\" it is an error:\")\n",
        "\n",
        "file.close() # Closing the file explicitly (although it's not strictly necessary due to the use of 'with' statement)\n",
        "\n",
        "import os\n",
        "os.rename('old_name.txt', 'new_name.txt') # Opening the renamed file\n",
        "file=open('new_name.txt')\n"
      ],
      "metadata": {
        "colab": {
          "base_uri": "https://localhost:8080/"
        },
        "id": "zkik-yGXaF0n",
        "outputId": "4acec4ba-181d-4723-83d9-03f88ac493ff"
      },
      "execution_count": null,
      "outputs": [
        {
          "output_type": "stream",
          "name": "stdout",
          "text": [
            " it is an error:\n"
          ]
        }
      ]
    }
  ]
}