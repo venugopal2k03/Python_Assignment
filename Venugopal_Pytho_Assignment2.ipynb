{
  "cells": [
    {
      "cell_type": "code",
      "execution_count": null,
      "metadata": {
        "colab": {
          "base_uri": "https://localhost:8080/"
        },
        "id": "LQVfA8mZJdNk",
        "outputId": "e3db28b8-ba57-4eb7-b3de-47af13071973"
      },
      "outputs": [
        {
          "name": "stdout",
          "output_type": "stream",
          "text": [
            "1 7\n",
            "[2, 3, 4, 5]\n",
            "[1, 2, 3, 4, 5, 9, 6, 7, 7]\n",
            "[1, 2, 3, 5, 6, 7, 7]\n",
            "False\n",
            "7\n",
            "[1, 2, 3, 5, 6, 7, 7]\n",
            "[1, 2, 3, 5, 6, 7, 7]\n",
            "[1, 3, 4, 6, 7, 8, 8, 9]\n",
            "[9, 8, 8, 7, 6, 4, 3, 1]\n",
            "[1, 3, 4, 6, 7, 8, 8, 9]\n",
            "[1, 3, 4, 6, 7, 8, 9]\n",
            "9\n",
            "1\n",
            "False\n",
            "[4, 5, [1, 2], [9, 8, 7]]\n"
          ]
        }
      ],
      "source": [
        "'''\n",
        "Python Lists:\n",
        "1.\tCreate an empty list and add elements to it.\n",
        "2.\tAccess the first and last elements of a list.\n",
        "3.\tSlice a list to get a subset of elements.\n",
        "4.\tAppend an element to a list.\n",
        "5.\tInsert an element at a specific index in a list.\n",
        "6.\tRemove an element from a list by value.\n",
        "7.\tRemove an element from a list by index.\n",
        "8.\tCheck if an element exists in a list.\n",
        "9.\tFind the length of a list.\n",
        "10.\tIterate through a list using a for loop.\n",
        "11.\tSort a list in ascending and descending order.\n",
        "12.\tReverse a list.\n",
        "13.\tCreate a list of unique elements from a given list.\n",
        "14.\tFind the maximum and minimum values in a numeric list.\n",
        "15.\tCheck if two lists are equal.\n",
        "16.\tCreate a list of lists (nested lists).\n",
        "\n",
        "'''\n",
        "empty_list=[]\n",
        "my_list=[1,2,3,4,5,6,7]\n",
        "print(my_list[0],my_list[-1])\n",
        "sub_list=my_list[1:5]\n",
        "print(sub_list)\n",
        "my_list.append(7)\n",
        "my_list.insert(5,9)\n",
        "print(my_list)\n",
        "my_list.remove(4)\n",
        "my_list.pop(4)\n",
        "print(my_list)\n",
        "x=4 in my_list\n",
        "print(x)\n",
        "print(len(my_list))\n",
        "print(my_list)\n",
        "x=len(my_list)\n",
        "for i in range(x):\n",
        "  for j in range(x-i-1):\n",
        "    if my_list[j]>my_list[j+1]:\n",
        "      my_list[j],my_list[j+1]=my_list[j+1],my_list[j]\n",
        "print(my_list)\n",
        "new_list=[9,8,7,6,8,1,3,4]\n",
        "new_list.sort()\n",
        "print(new_list)\n",
        "new_list.sort(reverse=True)\n",
        "print (new_list)\n",
        "new_list.reverse()\n",
        "print(new_list)\n",
        "print(list(set(new_list)))\n",
        "print(max(new_list))\n",
        "print(min(new_list))\n",
        "print(new_list==my_list)\n",
        "nest_list=[4,5,[1,2],[9,8,7]]\n",
        "print(nest_list)\n"
      ]
    },
    {
      "cell_type": "code",
      "execution_count": null,
      "metadata": {
        "colab": {
          "background_save": true,
          "base_uri": "https://localhost:8080/"
        },
        "id": "Bn9GfAolMHx4",
        "outputId": "fc3cd0d1-c72d-4ac1-b009-99e607c48753"
      },
      "outputs": [
        {
          "name": "stdout",
          "output_type": "stream",
          "text": [
            "3\n",
            "SirHello\n",
            "S\n",
            "rHe\n",
            "SIRHELLO\n",
            "sirhello\n",
            "Sirworld\n",
            "['S', 'i', 'r', 'w', 'o', 'r', 'l', 'd']\n",
            "Sirworld\n",
            "the string is not a palindrome\n",
            "2\n",
            "5\n",
            "olleHriS\n",
            "False\n",
            "True\n"
          ]
        }
      ],
      "source": [
        "'''\n",
        "Python Strings:\n",
        "1.\tCreate a string and print its length.\n",
        "2.\tConcatenate two strings.\n",
        "3.\tAccess individual characters in a string.\n",
        "4.\tSlice a string to extract a substring.\n",
        "5.\tConvert a string to uppercase and lowercase.\n",
        "6.\tCheck if a substring exists in a string.\n",
        "7.\tReplace a substring in a string.\n",
        "8.\tSplit a string into a list of words.\n",
        "9.\tJoin a list of words into a single string.\n",
        "10.\tRemove leading and trailing whitespace from a string.\n",
        "11.\tCheck if a string is a palindrome.\n",
        "12.\tCount the occurrences of a character in a string.\n",
        "13.\tFind the index of the first occurrence of a character.\n",
        "14.\tReverse a string.\n",
        "15.\tCheck if a string contains only digits.\n",
        "16.\tCheck if a string contains only alphabetic characters.\n",
        "17.\tCheck if a string is a valid email address (use regular expressions).\n",
        "18.\tEncode and decode strings using UTF-8 encoding.\n",
        "\n",
        "'''\n",
        "string=\"Sir\"\n",
        "print(len(string))\n",
        "new_string=string+\"Hello\"\n",
        "print(new_string)\n",
        "print(string[0])\n",
        "print(new_string[2:5])\n",
        "print(new_string.upper())\n",
        "print(new_string.lower())\n",
        "if \"hi\" in new_string:\n",
        "  print(\"hi exists\")\n",
        "my_string=new_string.replace(\"Hello\",\"world\")\n",
        "print(my_string)\n",
        "x=len(my_string)\n",
        "list=[]\n",
        "for i in range(x):\n",
        "  list.append(my_string[i])\n",
        "print(list)\n",
        "string=\"\".join(list)\n",
        "print(string)\n",
        "my_string=\"hello world\"\n",
        "##stripped_string = my_string.strip()\n",
        "##print(stripped_string)\n",
        "if my_string==new_string:\n",
        "  print(\"the string is palindrome\")\n",
        "else:\n",
        "  print(\"the string is not a palindrome\")\n",
        "print(new_string.count(\"l\"))\n",
        "print(new_string.index(\"l\"))\n",
        "print(new_string[::-1])\n",
        "print(new_string.isdigit())\n",
        "print(new_string.isalpha())\n",
        "y=input(\"enter e-mail address\")\n",
        "if \".com\" or \".in\" in y:\n",
        "  print(\"this is a valid e-mail address\")\n",
        "else:\n",
        "  print(\"this is not a valid e-mail address\")\n",
        "encoded_string=my_string.encode(\"utf-8\")\n",
        "print(encoded_string)\n",
        "decoded_string=encoded_string.decode(\"utf-8\")\n",
        "print(decoded_string)"
      ]
    },
    {
      "cell_type": "code",
      "execution_count": null,
      "metadata": {
        "id": "HDpF91-RNAps",
        "colab": {
          "base_uri": "https://localhost:8080/",
          "height": 419
        },
        "outputId": "98d73926-6420-4720-87c5-3b72fffb04d1"
      },
      "outputs": [
        {
          "output_type": "stream",
          "name": "stdout",
          "text": [
            "(1, 'a', [1, 2, 3])\n",
            "[1, 2, 3]\n",
            "(1, 'a', [1, 2, 3], 4, 5)\n",
            "(1, 2, 3, 1, 2, 3, 1, 2, 3, 1, 2, 3, 1, 2, 3)\n",
            "4 doesn't exists\n",
            "3\n",
            "0\n",
            "1\n",
            "2\n",
            "[1, 2, 3]\n"
          ]
        },
        {
          "output_type": "error",
          "ename": "TypeError",
          "evalue": "ignored",
          "traceback": [
            "\u001b[0;31m---------------------------------------------------------------------------\u001b[0m",
            "\u001b[0;31mTypeError\u001b[0m                                 Traceback (most recent call last)",
            "\u001b[0;32m<ipython-input-1-8e98804f6392>\u001b[0m in \u001b[0;36m<cell line: 31>\u001b[0;34m()\u001b[0m\n\u001b[1;32m     29\u001b[0m \u001b[0mmy_list\u001b[0m\u001b[0;34m=\u001b[0m\u001b[0mlist\u001b[0m\u001b[0;34m(\u001b[0m\u001b[0mmy_tuple\u001b[0m\u001b[0;34m)\u001b[0m\u001b[0;34m\u001b[0m\u001b[0;34m\u001b[0m\u001b[0m\n\u001b[1;32m     30\u001b[0m \u001b[0mprint\u001b[0m\u001b[0;34m(\u001b[0m\u001b[0mmy_list\u001b[0m\u001b[0;34m)\u001b[0m\u001b[0;34m\u001b[0m\u001b[0;34m\u001b[0m\u001b[0m\n\u001b[0;32m---> 31\u001b[0;31m \u001b[0mmy_tuple\u001b[0m\u001b[0;34m=\u001b[0m\u001b[0mtuple\u001b[0m\u001b[0;34m(\u001b[0m\u001b[0mmy_list\u001b[0m\u001b[0;34m)\u001b[0m\u001b[0;34m\u001b[0m\u001b[0;34m\u001b[0m\u001b[0m\n\u001b[0m\u001b[1;32m     32\u001b[0m \u001b[0mprint\u001b[0m\u001b[0;34m(\u001b[0m\u001b[0mmy_tuple\u001b[0m\u001b[0;34m)\u001b[0m\u001b[0;34m\u001b[0m\u001b[0;34m\u001b[0m\u001b[0m\n\u001b[1;32m     33\u001b[0m \u001b[0mprint\u001b[0m\u001b[0;34m(\u001b[0m\u001b[0mmax\u001b[0m\u001b[0;34m(\u001b[0m\u001b[0mmy_tuple\u001b[0m\u001b[0;34m)\u001b[0m\u001b[0;34m)\u001b[0m\u001b[0;34m\u001b[0m\u001b[0;34m\u001b[0m\u001b[0m\n",
            "\u001b[0;31mTypeError\u001b[0m: 'tuple' object is not callable"
          ]
        }
      ],
      "source": [
        "'''\n",
        "Python Tuples:\n",
        "1.\tCreate a tuple with elements of different data types.\n",
        "2.\tAccess elements of a tuple using indexing.\n",
        "3.\tConcatenate two tuples.\n",
        "4.\tMultiply a tuple by an integer.\n",
        "5.\tCheck if an element exists in a tuple.\n",
        "6.\tFind the length of a tuple.\n",
        "7.\tIterate through a tuple using a for loop.\n",
        "8.\tConvert a tuple to a list and vice versa.\n",
        "9.\tFind the maximum and minimum values in a numeric tuple.\n",
        "10.\tCreate a tuple of nested tuples.\n",
        "\n",
        "'''\n",
        "tuple=(1,\"a\",[1,2,3])\n",
        "print(tuple)\n",
        "print(tuple[2])\n",
        "new_tuple=tuple+(4,5)\n",
        "print(new_tuple)\n",
        "my_tuple=(1,2,3)\n",
        "print(my_tuple*5)\n",
        "if 4 in my_tuple:\n",
        "  print(\"4 exists\")\n",
        "else:\n",
        "  print(\"4 doesn't exists\")\n",
        "print(len(my_tuple))\n",
        "for i in range(len(my_tuple)):\n",
        "  print(i)\n",
        "my_list=list(my_tuple)\n",
        "print(my_list)\n",
        "my_tuple=tuple(my_list)\n",
        "print(my_tuple)\n",
        "print(max(my_tuple))\n",
        "print(min(my_tuple))\n",
        "my_list=[1, 2, 3]\n",
        "nested_tuple=(1,2,3,(4,5,6))\n",
        "print(nested_tuple)"
      ]
    },
    {
      "cell_type": "code",
      "execution_count": null,
      "metadata": {
        "id": "UevGN7SRQKap",
        "colab": {
          "base_uri": "https://localhost:8080/",
          "height": 488
        },
        "outputId": "66f1254c-6388-4d8c-fc6f-59e1082e7791"
      },
      "outputs": [
        {
          "output_type": "stream",
          "name": "stdout",
          "text": [
            "{3, 4, 5, 6}\n",
            "{1, 3, 4, 5, 6, 7}\n",
            "{3, 4}\n",
            "{3, 6}\n",
            "4 exists\n",
            "None\n",
            "None\n",
            "4\n",
            "0\n",
            "4\n",
            "5\n",
            "6\n",
            "it is not a subset\n",
            "it is not a disjointset\n",
            "frozenset({0, 4, 5, 6})\n",
            "4\n"
          ]
        },
        {
          "output_type": "error",
          "ename": "AttributeError",
          "evalue": "ignored",
          "traceback": [
            "\u001b[0;31m---------------------------------------------------------------------------\u001b[0m",
            "\u001b[0;31mAttributeError\u001b[0m                            Traceback (most recent call last)",
            "\u001b[0;32m<ipython-input-2-b79262bde9fb>\u001b[0m in \u001b[0;36m<cell line: 44>\u001b[0;34m()\u001b[0m\n\u001b[1;32m     42\u001b[0m \u001b[0mprint\u001b[0m\u001b[0;34m(\u001b[0m\u001b[0mfrozen_set\u001b[0m\u001b[0;34m)\u001b[0m\u001b[0;34m\u001b[0m\u001b[0;34m\u001b[0m\u001b[0m\n\u001b[1;32m     43\u001b[0m \u001b[0mprint\u001b[0m\u001b[0;34m(\u001b[0m\u001b[0mlen\u001b[0m\u001b[0;34m(\u001b[0m\u001b[0mfrozen_set\u001b[0m\u001b[0;34m)\u001b[0m\u001b[0;34m)\u001b[0m\u001b[0;34m\u001b[0m\u001b[0;34m\u001b[0m\u001b[0m\n\u001b[0;32m---> 44\u001b[0;31m \u001b[0mprint\u001b[0m\u001b[0;34m(\u001b[0m\u001b[0mfrozen_set\u001b[0m\u001b[0;34m.\u001b[0m\u001b[0mremove\u001b[0m\u001b[0;34m(\u001b[0m\u001b[0;36m3\u001b[0m\u001b[0;34m)\u001b[0m\u001b[0;34m)\u001b[0m\u001b[0;34m\u001b[0m\u001b[0;34m\u001b[0m\u001b[0m\n\u001b[0m",
            "\u001b[0;31mAttributeError\u001b[0m: 'frozenset' object has no attribute 'remove'"
          ]
        }
      ],
      "source": [
        "'''\n",
        "Python Sets:\n",
        "1.\tCreate two sets and perform set union.\n",
        "2.\tCreate two sets and perform set intersection.\n",
        "3.\tCreate two sets and perform set difference.\n",
        "4.\tCreate a set from a list and remove duplicate elements.\n",
        "5.\tCheck if an element exists in a set.\n",
        "6.\tAdd an element to a set.\n",
        "7.\tRemove an element from a set.\n",
        "8.\tFind the length of a set.\n",
        "9.\tIterate through a set using a for loop.\n",
        "10.\tCheck if one set is a subset of another set.\n",
        "11.\tCheck if two sets are disjoint (have no common elements).\n",
        "12.\tCreate a frozen set and try to modify it.\n",
        "\n",
        "'''\n",
        "my_set={3,4,5,6}\n",
        "print(my_set)\n",
        "print(my_set|{7,1})\n",
        "print(my_set&{3,4})\n",
        "print(my_set-{5,4})\n",
        "if 4 in my_set:\n",
        "  print(\"4 exists\")\n",
        "else:\n",
        "  print(\"4 not exists\")\n",
        "add_set=(my_set.add(0))\n",
        "print(add_set)\n",
        "remove_set=my_set.remove(3)\n",
        "print(remove_set)\n",
        "print(len(my_set))\n",
        "for i in my_set:\n",
        "  print(i)\n",
        "if ({1,4}.issubset(my_set)):\n",
        "  print(\"it is a subset\")\n",
        "else:\n",
        "  print(\"it is not a subset\")\n",
        "if {3,4}.isdisjoint(my_set):\n",
        "  print(\"it is a disjointset\")\n",
        "else:\n",
        "  print(\"it is not a disjointset\")\n",
        "frozen_set=frozenset(my_set)\n",
        "print(frozen_set)\n",
        "print(len(frozen_set))\n",
        "print(frozen_set.remove(3))\n"
      ]
    },
    {
      "cell_type": "code",
      "execution_count": null,
      "metadata": {
        "id": "N4K6kyl-Qjyd",
        "colab": {
          "base_uri": "https://localhost:8080/"
        },
        "outputId": "192eb6ec-8aed-40dd-aeee-7f2594acdcb2"
      },
      "outputs": [
        {
          "output_type": "stream",
          "name": "stdout",
          "text": [
            "{'Name': 'Venugopal', 'Age': 20, 'Occupation': 'Student'}\n",
            "Venugopal\n",
            "{'Name': 'Venugopal', 'Age': 20, 'Occupation': 'Student', 'Gender': 'Male'}\n",
            "21\n",
            "{'Name': 'Venugopal', 'Age': 21, 'Gender': 'Male'}\n",
            "Age = 21\n",
            "<built-in method keys of dict object at 0x7f2ef809e300>\n",
            "<built-in method values of dict object at 0x7f2ef809e300>\n",
            "Name Venugopal\n",
            "Age 21\n",
            "Gender Male\n",
            "{'Name': 'Venugopal', 'Age': 21, 'Gender': 'Male', 'mobile': 123456789, 'mail': 'temp@gmail.com'}\n",
            "3\n",
            "{'names': ['Alice', 'Bob'], 'Age': [19, 20]}\n"
          ]
        }
      ],
      "source": [
        "'''\n",
        "Python Dictionaries:\n",
        "1.\tCreate a dictionary with key-value pairs.\n",
        "2.\tAccess the value associated with a specific key.\n",
        "3.\tAdd a new key-value pair to a dictionary.\n",
        "4.\tUpdate the value of an existing key.\n",
        "5.\tRemove a key-value pair from a dictionary.\n",
        "6.\tCheck if a key exists in a dictionary.\n",
        "7.\tGet a list of all keys in a dictionary.\n",
        "8.\tGet a list of all values in a dictionary.\n",
        "9.\tIterate through a dictionary using a for loop.\n",
        "10.\tMerge two dictionaries.\n",
        "11.\tFind the length of a dictionary.\n",
        "12.\tCreate a dictionary with keys as strings and values as lists.\n",
        "\n",
        "'''\n",
        "dict={\"Name\":\"Venugopal\",\"Age\":20,\"Occupation\":\"Student\"}\n",
        "print(dict)\n",
        "print(dict[\"Name\"])\n",
        "dict[\"Gender\"]=\"Male\"\n",
        "print(dict)\n",
        "dict[\"Age\"]=dict[\"Age\"]+1\n",
        "print(dict[\"Age\"])\n",
        "del dict[\"Occupation\"]\n",
        "print(dict)\n",
        "if \"Age\" in dict:\n",
        "  print(\"Age =\",dict[\"Age\"])\n",
        "else:\n",
        "  print(\"Age does't exist\")\n",
        "print(dict.keys)\n",
        "print(dict.values)\n",
        "for key, value in dict.items():\n",
        "  print(key,value)\n",
        "my_dict={\"mobile\":123456789,\"mail\":\"temp@gmail.com\"}\n",
        "new_dict={**dict,**my_dict}\n",
        "print(new_dict)\n",
        "print(len(dict))\n",
        "str_list_dict={\"names\": [\"Alice\", \"Bob\"],\"Age\":[19,20]}\n",
        "print(str_list_dict)"
      ]
    },
    {
      "cell_type": "code",
      "execution_count": null,
      "metadata": {
        "id": "bAEa_Lv1RPB_",
        "colab": {
          "base_uri": "https://localhost:8080/"
        },
        "outputId": "b51c34e7-3ebc-4693-aa40-1c8f0ebf7092"
      },
      "outputs": [
        {
          "output_type": "stream",
          "name": "stdout",
          "text": [
            "4\n",
            "['Alice', 'Bob', 'Jhon']\n",
            "['Wick', 'Jhon', 'Bob', 'Alice']\n",
            "['Alice', 'Bob', 'Jhon', 'Wick']\n",
            "['Bob', 'Jhon', 'Alice', 'Wick']\n",
            "Alice exists\n",
            "1\n",
            "{'Alice': 5, 'Bob': 3, 'Jhon': 4, 'Wick': 4}\n",
            "{'Alex', 'Adam', 'Alice', 'Abel'}\n",
            "AlexAdamAliceAbel\n"
          ]
        }
      ],
      "source": [
        "'''\n",
        "Comprehensive Question:\n",
        "Given a list of names, find and print the following:\n",
        "1.\tThe length of the list.\n",
        "2.\tThe first three names in the list.\n",
        "3.\tThe last name in the list.\n",
        "4.\tThe list of unique names.\n",
        "5.\tSort the names in alphabetical order.\n",
        "6.\tCheck if “Alice” is in the list.\n",
        "7.\tFind and print the index of “Bob” in the list.\n",
        "8.\tCreate a dictionary where each name is a key, and the value is the length of the name.\n",
        "9.\tCreate a set of names that start with the letter “A”.\n",
        "10.\tConcatenate all the names into a single string separated by commas.\n",
        "This question covers operations on lists, strings, dictionaries, and sets.\n",
        "\n",
        "'''\n",
        "my_list=[\"Alice\",\"Bob\",\"Jhon\",\"Wick\"]\n",
        "print(len(my_list))\n",
        "print(my_list[0:3])\n",
        "print(my_list[::-1])\n",
        "print(sorted(my_list))\n",
        "unique_list=list(set(my_list))\n",
        "print(unique_list)\n",
        "if \"Alice\" in my_list:\n",
        "  print(\"Alice exists\")\n",
        "else:\n",
        "  print(\"Alice does't exists\")\n",
        "print(my_list.index(\"Bob\"))\n",
        "dict={\"Alice\":len(\"Alice\"),\"Bob\":len(\"Bob\"),\"Jhon\":len(\"Jhon\"),\"Wick\":len(\"Wick\")}\n",
        "print(dict)\n",
        "set={\"Alice\",\"Adam\",\"Alex\",\"Abel\"}\n",
        "print(set)\n",
        "Concatenated_string=\"\"\n",
        "for i in set:\n",
        "  Concatenated_string=Concatenated_string+i\n",
        "print(Concatenated_string)"
      ]
    }
  ],
  "metadata": {
    "colab": {
      "provenance": []
    },
    "kernelspec": {
      "display_name": "Python 3",
      "name": "python3"
    },
    "language_info": {
      "name": "python"
    }
  },
  "nbformat": 4,
  "nbformat_minor": 0
}