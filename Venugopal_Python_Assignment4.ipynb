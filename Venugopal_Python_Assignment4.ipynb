{
  "nbformat": 4,
  "nbformat_minor": 0,
  "metadata": {
    "colab": {
      "provenance": [],
      "toc_visible": true
    },
    "kernelspec": {
      "name": "python3",
      "display_name": "Python 3"
    },
    "language_info": {
      "name": "python"
    }
  },
  "cells": [
    {
      "cell_type": "code",
      "execution_count": null,
      "metadata": {
        "colab": {
          "base_uri": "https://localhost:8080/"
        },
        "id": "bXXeviz4Lka-",
        "outputId": "524f7fb5-546d-4de9-dd1e-de2d0f7d5aa2"
      },
      "outputs": [
        {
          "output_type": "stream",
          "name": "stdout",
          "text": [
            "available amount: 2300\n",
            "available amount: 1800\n"
          ]
        }
      ],
      "source": [
        "##Object-Oriented Programming in Python: Comprehensive Assignment##\n",
        "## Encapsulation\n",
        "\n",
        "##**Question 1: Implement a `BankAccount` Class**\n",
        "##- Create a class `BankAccount` with private attributes for account holder's name, account number, and balance.\n",
        "##- Include methods to deposit and withdraw money.\n",
        "##- Ensure that the balance cannot go negative.\n",
        "\n",
        "class BankAccount():\n",
        "  def __init__(self,name,acc_num,balance):\n",
        "    #creating instance variables\n",
        "    #creating private attributes by adding \"__\"\n",
        "    self.__name =     name\n",
        "    self.__acc_num = acc_num\n",
        "    self.__balance = balance\n",
        "\n",
        "\n",
        "  def deposit(self,amount):  #creating a deposit method where amount is a attribute which checks for greater than 0 i.e amount should be +ve\n",
        "      if amount > 0:\n",
        "        self.__balance += amount\n",
        "        print(\"available amount:\",self.__balance)\n",
        "\n",
        "  def withdraw(self,amount): #it checks it is greater than 0 and there is enough balance to withdraw.\n",
        "    if self.__balance >= amount:\n",
        "      if amount > 0:\n",
        "         self.__balance -= amount\n",
        "         print(\"available amount:\",self.__balance)\n",
        "      else:\n",
        "         print(\"You cannot withdraw\")\n",
        "\n",
        "#driver class\n",
        "cust = BankAccount(\"Deva\",5678,2100)  #object of BankAccount class\n",
        "cust.deposit(200)         #calling deposit method with argument of amount=200\n",
        "cust.withdraw(500)        #calling withdraw method with argument amount = 500\n",
        "\n",
        "\n"
      ]
    },
    {
      "cell_type": "code",
      "source": [
        "##**Question 2: Design a `PasswordManager` Class**\n",
        "##- Create a class `PasswordManager` with a private attribute to store a password.\n",
        "##- Implement methods to set and validate the password.\n",
        "##- The `set_password` method should ensure that the new password is at least 8 characters long.\n",
        "\n",
        "class PasswordManager():\n",
        "  def __init__(self,password):\n",
        "    self.__password = password #private variable named password\n",
        "\n",
        "  def set_password(self,new_password):\n",
        "      if len(new_password) >= 8:#ensures that the length of new password should be >= 8\n",
        "         self.__password = new_password\n",
        "\n",
        "  def validate(self,enter_password): #checks if the entered password and the existing password matches\n",
        "    if  enter_password == self.__password:\n",
        "        print(\"It is a Valid Password\")\n",
        "    else:\n",
        "      print(\"It is not a Valid Password\")\n",
        "\n",
        "pw = PasswordManager(\"Password\")\n",
        "pw.set_password(\"Password123\") #here it is a passsword of length 11\n",
        "pw.validate(\"Password123\")"
      ],
      "metadata": {
        "colab": {
          "base_uri": "https://localhost:8080/"
        },
        "id": "4fGD6MR-MB-I",
        "outputId": "ec6447ed-7a5f-46c3-e2a2-2989c430906d"
      },
      "execution_count": null,
      "outputs": [
        {
          "output_type": "stream",
          "name": "stdout",
          "text": [
            "It is a Valid Password\n"
          ]
        }
      ]
    },
    {
      "cell_type": "code",
      "source": [
        "## Inheritance\n",
        "##**Question 1: Shape Hierarchy**\n",
        "##- Define a base class `Shape` with a method `area` that returns 0.\n",
        "##- Create two derived classes, `Circle` and `Rectangle`, overriding the `area` method.\n",
        "\n",
        "class shape():#base class named shape with no arguments expect self\n",
        "  def __init__(self):\n",
        "     pass\n",
        "  def area():#method named area\n",
        "    return 0\n",
        "\n",
        "class circle(shape):#circle is the child class which inherits the base class(shape) properities\n",
        "  def area(self,radius):\n",
        "    return 3.14*radius*radius\n",
        "\n",
        "class rectangle(shape):#rectangle is the child class which returns its area (length*breadth)\n",
        "  def area(self,length,breadth):\n",
        "    return length * breadth\n",
        "\n",
        "\n",
        "shape1 = circle() #obj created for circle\n",
        "print(\"Area of circle :\" ,shape1.area(3))\n",
        "\n",
        "shape2 = rectangle()#obj created for rectangel\n",
        "print(\"Area of rectangle :\",shape2.area(3,6))\n",
        "\n"
      ],
      "metadata": {
        "colab": {
          "base_uri": "https://localhost:8080/"
        },
        "id": "6vQPLCUgOIaw",
        "outputId": "e7902a31-75b4-47a5-a0c1-29dd5a6a79e8"
      },
      "execution_count": 1,
      "outputs": [
        {
          "output_type": "stream",
          "name": "stdout",
          "text": [
            "Area of circle : 28.259999999999998\n",
            "Area of rectangle : 18\n"
          ]
        }
      ]
    },
    {
      "cell_type": "code",
      "source": [
        "##**Question 2: Animal Sound System**\n",
        "##- Create a base class `Animal` with a method `speak` that returns a generic sound.\n",
        "##- Extend this class with specific animal classes (e.g., `Dog`, `Cat`) that override the `speak` method.\n",
        "##Animal Sound System\n",
        "\n",
        "class Animal():#base class\n",
        "  def speak():\n",
        "    return \"Generic Sound\"\n",
        "\n",
        "class Dog(Animal):#child class\n",
        "      def speak(self):#inherits the parents class method\n",
        "        return \"Bow\"\n",
        "\n",
        "class Cat(Animal):\n",
        "     def speak(self):\n",
        "      return \"Meow\"\n",
        "\n",
        "cat1 = Cat()\n",
        "cat1.speak()"
      ],
      "metadata": {
        "colab": {
          "base_uri": "https://localhost:8080/",
          "height": 35
        },
        "id": "kSSYjUk_t8Bh",
        "outputId": "94249ec5-a524-4bc5-ef32-e87bb44a4f13"
      },
      "execution_count": 2,
      "outputs": [
        {
          "output_type": "execute_result",
          "data": {
            "text/plain": [
              "'Meow'"
            ],
            "application/vnd.google.colaboratory.intrinsic+json": {
              "type": "string"
            }
          },
          "metadata": {},
          "execution_count": 2
        }
      ]
    },
    {
      "cell_type": "code",
      "source": [
        "## Polymorphism\n",
        "##**Question 1: Vehicle Description Function**\n",
        "##- Write a function `describe_vehicle` that takes an object and calls its `describe` method.\n",
        "##- Create classes `Car` and `Boat`, each with a `describe` method.\n",
        "\n",
        "##Vehicle Description Function\n",
        "\n",
        "class Boat():\n",
        "  def __init__(self,color,model):#construcutor\n",
        "    self.color = color\n",
        "    self.model = model\n",
        "  def describe_vehicle(self):#describe_method for Boat class\n",
        "    print(f\"{self.color},{self.model}\")\n",
        "\n",
        "class Car():\n",
        "   def __init__(self,color,model):\n",
        "      self.color = color\n",
        "      self.model = model\n",
        "   def describe_vehicle(self):#describe_method for Car class\n",
        "      print(f\"{self.color},{self.model}\")\n",
        "\n",
        "obj1 = Car(\"white\",\"s90\")\n",
        "obj1.describe_vehicle()\n"
      ],
      "metadata": {
        "colab": {
          "base_uri": "https://localhost:8080/"
        },
        "id": "NCMPECMgvB73",
        "outputId": "249d72d8-4303-46b8-db60-07b10825eafe"
      },
      "execution_count": 3,
      "outputs": [
        {
          "output_type": "stream",
          "name": "stdout",
          "text": [
            "white,s90\n"
          ]
        }
      ]
    },
    {
      "cell_type": "code",
      "source": [
        "##  Calculator System\n",
        "##**Question 2: Calculator System**\n",
        "##- Implement a class `Calculator` with a method `operate` that takes two numbers.\n",
        "##- Create subclasses `Adder` and `Multiplier` that override the `operate` method for addition and multiplication.\n",
        "\n",
        "class calculate():\n",
        "  def operate(self,x,y):#creating a method operate in base class with x,y attributes\n",
        "    self.x = x\n",
        "    self.y = y\n",
        "\n",
        "\n",
        "class  adder(calculate):\n",
        "    def operate(self,x,y):#overriding the operate method with addition\n",
        "      return x + y\n",
        "\n",
        "class multiplier(calculate):\n",
        "    def operate(self,x,y):#overriding the operate method with multiplication\n",
        "      return x*y\n",
        "\n",
        "\n",
        "#driver class\n",
        "#creating an object\n",
        "\n",
        "add1 =  adder()\n",
        "add1.operate(4,8)"
      ],
      "metadata": {
        "colab": {
          "base_uri": "https://localhost:8080/"
        },
        "id": "vIfr9KQUvf4u",
        "outputId": "1d59a7d2-7871-4e3e-f452-9a6f1c6d4e07"
      },
      "execution_count": 5,
      "outputs": [
        {
          "output_type": "execute_result",
          "data": {
            "text/plain": [
              "12"
            ]
          },
          "metadata": {},
          "execution_count": 5
        }
      ]
    },
    {
      "cell_type": "code",
      "source": [
        "## Abstraction\n",
        "##**Question 1: Sensor System**\n",
        "##- Create an abstract class `Sensor` with an abstract method `read_value`.\n",
        "##- Implement subclasses `TemperatureSensor` and `PressureSensor` with specific `read_value` methods.\n",
        "\n",
        "\n",
        "from abc import ABC, abstractmethod  #ABC abstract base class for creating a abstract class\n",
        "class sensor(ABC):\n",
        "  @abstractmethod #using decorator to declare the read_value method\n",
        "  def read_value(self):\n",
        "    pass\n",
        "\n",
        "class TemperatureSensor(sensor):\n",
        "       def read_value(self):#accesing the abstract method\n",
        "           return 28\n",
        "class PressureSensor(sensor):\n",
        "       def read_value(self):\n",
        "            return 120\n",
        "\n",
        "obj1 =TemperatureSensor()\n",
        "obj1.read_value()\n"
      ],
      "metadata": {
        "colab": {
          "base_uri": "https://localhost:8080/"
        },
        "id": "4rGgEJf_vv4Z",
        "outputId": "68bd7860-33b9-4cfc-edb4-a6cf3aca3af0"
      },
      "execution_count": 6,
      "outputs": [
        {
          "output_type": "execute_result",
          "data": {
            "text/plain": [
              "28"
            ]
          },
          "metadata": {},
          "execution_count": 6
        }
      ]
    },
    {
      "cell_type": "code",
      "source": [
        "##storage mechanism\n",
        "##**Question 2: Storage Mechanism**\n",
        "##- Design an abstract class `Storage` with abstract methods `save_data` and `read_data`.\n",
        "##- Create subclasses `FileStorage` and `DatabaseStorage` implementing these methods.\n",
        "from abc import ABC ,abstractmethod\n",
        "\n",
        "class Storage(ABC):\n",
        "  @abstractmethod         #abstractmethod 1\n",
        "  def save_data(self):\n",
        "    pass\n",
        "  @abstractmethod         #abstractmethod 2\n",
        "  def read_data(self):\n",
        "    pass\n",
        "\n",
        "\n",
        "class FileStorage(Storage): #child class\n",
        "    def save_data(self):\n",
        "      pass\n",
        "    def read_data(self):\n",
        "     pass\n",
        "\n",
        "class DatabaseStorage(Storage): #child class\n",
        "  def save_data(self):\n",
        "    pass\n",
        "  def read_data(self):\n",
        "    pass\n",
        "\n",
        "obj = FileStorage()# as there is only pass statement there will be no answer displayed\n",
        "obj.read_data()"
      ],
      "metadata": {
        "id": "xHhcpLruwSAS"
      },
      "execution_count": 7,
      "outputs": []
    }
  ]
}