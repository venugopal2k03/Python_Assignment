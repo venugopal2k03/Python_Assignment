{
  "nbformat": 4,
  "nbformat_minor": 0,
  "metadata": {
    "colab": {
      "provenance": []
    },
    "kernelspec": {
      "name": "python3",
      "display_name": "Python 3"
    },
    "language_info": {
      "name": "python"
    }
  },
  "cells": [
    {
      "cell_type": "code",
      "source": [
        "## 1.\tExplain the difference between if, elif, and else in Python. ##\n",
        "## if: it is a conditional statement check weather the condition in if loop is correct or not and proceed further into the loop. ##\n",
        "## elif: it is also a conditional statement that should be written after if statement then checks the condition and proceed to further accordingly to the result of the condition. ##\n",
        "## else: it is a statement where the previous if statement or elif statement is wrong then this loop will executed. ##"
      ],
      "metadata": {
        "id": "A_-cRZJjhhYU"
      },
      "execution_count": null,
      "outputs": []
    },
    {
      "cell_type": "code",
      "execution_count": null,
      "metadata": {
        "id": "RrgWECoZnNOm",
        "colab": {
          "base_uri": "https://localhost:8080/"
        },
        "outputId": "f98ff12e-6d96-40f9-9420-b2d264422def"
      },
      "outputs": [
        {
          "output_type": "stream",
          "name": "stdout",
          "text": [
            "enter a number:7\n",
            "odd\n"
          ]
        }
      ],
      "source": [
        "## 2 question   Write a Python function that takes an integer and prints “Even” if the number is even and “Odd” if the number is odd.  ##\n",
        "def even_or_odd (x):\n",
        "  if(x%2==0):\n",
        "    print(\"even\")\n",
        "  else:\n",
        "    print(\"odd\")\n",
        "num=int(input(\"enter a number:\"))\n",
        "even_or_odd(num)"
      ]
    },
    {
      "cell_type": "code",
      "source": [
        "### 3.\tWhat will the following code print and why? ##\n",
        "for i in range(5):\n",
        "  print(i)\n",
        "## this code prints numbers from 0 to 4 ##\n",
        "## Because the intialisation of i has not done so the compiler take it as 0 and upto the range 5 therefore the output prints upto 4 ##"
      ],
      "metadata": {
        "colab": {
          "base_uri": "https://localhost:8080/"
        },
        "id": "a1vJn5n7qVLk",
        "outputId": "8695545d-2177-4b78-ef88-cd6d665883fc"
      },
      "execution_count": null,
      "outputs": [
        {
          "output_type": "stream",
          "name": "stdout",
          "text": [
            "0\n",
            "1\n",
            "2\n",
            "3\n",
            "4\n"
          ]
        }
      ]
    },
    {
      "cell_type": "code",
      "source": [
        "## 4.\tWrite a Python script that prints all the prime numbers in a given list numbers = [2, 3, 5, 7, 11, 13, 17, 19, 23, 29]. ##\n",
        "list=[2, 3, 5, 7, 11, 13, 17, 19, 23, 29]\n",
        "for num in list:\n",
        "  for i in range(2,num):\n",
        "    if num%i==0:\n",
        "      break;\n",
        "  else:\n",
        "    print(num)"
      ],
      "metadata": {
        "colab": {
          "base_uri": "https://localhost:8080/"
        },
        "id": "_3tg4olJwxm6",
        "outputId": "648242b6-0b2f-4ed4-cc53-001cf98c2e32"
      },
      "execution_count": null,
      "outputs": [
        {
          "output_type": "stream",
          "name": "stdout",
          "text": [
            "2\n",
            "3\n",
            "5\n",
            "7\n",
            "11\n",
            "13\n",
            "17\n",
            "19\n",
            "23\n",
            "29\n"
          ]
        }
      ]
    },
    {
      "cell_type": "code",
      "source": [
        "## 5.\tCan a while loop be used to iterate over a list? Provide an example. ##\n",
        "## Yes, a while loop can be used to iterate over a list. Here is the basic example of iteration of list to print the elements present in the list ##\n",
        "list=[2, 3, 5, 7, 11, 13, 17, 19, 23, 29]\n",
        "i=0\n",
        "while i<(len(list)):\n",
        "  print(list[i])\n",
        "  i+=1"
      ],
      "metadata": {
        "colab": {
          "base_uri": "https://localhost:8080/"
        },
        "id": "sLDpwc6h14zh",
        "outputId": "1240d436-45d9-45cb-825b-b5de9c57d091"
      },
      "execution_count": null,
      "outputs": [
        {
          "output_type": "stream",
          "name": "stdout",
          "text": [
            "2\n",
            "3\n",
            "5\n",
            "7\n",
            "11\n",
            "13\n",
            "17\n",
            "19\n",
            "23\n",
            "29\n"
          ]
        }
      ]
    },
    {
      "cell_type": "code",
      "source": [
        "## 6.\tWrite a Python program that asks the user for input and continues to ask until they type “quit”. ##\n",
        "str_input = \"hi\"\n",
        "while str_input != \"quit\":\n",
        "  str_input=input(\"\")"
      ],
      "metadata": {
        "colab": {
          "base_uri": "https://localhost:8080/",
          "height": 210
        },
        "id": "YQYWjpzbUt-l",
        "outputId": "6251a8ec-81d2-47b1-d5b5-961e280739bf"
      },
      "execution_count": null,
      "outputs": [
        {
          "output_type": "error",
          "ename": "TypeError",
          "evalue": "ignored",
          "traceback": [
            "\u001b[0;31m---------------------------------------------------------------------------\u001b[0m",
            "\u001b[0;31mTypeError\u001b[0m                                 Traceback (most recent call last)",
            "\u001b[0;32m<ipython-input-10-121c1bb12a49>\u001b[0m in \u001b[0;36m<cell line: 2>\u001b[0;34m()\u001b[0m\n\u001b[1;32m      1\u001b[0m \u001b[0mstr_input\u001b[0m \u001b[0;34m=\u001b[0m \u001b[0;34m\"hi\"\u001b[0m\u001b[0;34m\u001b[0m\u001b[0;34m\u001b[0m\u001b[0m\n\u001b[1;32m      2\u001b[0m \u001b[0;32mwhile\u001b[0m \u001b[0mstr_input\u001b[0m \u001b[0;34m!=\u001b[0m \u001b[0;34m\"quit\"\u001b[0m\u001b[0;34m:\u001b[0m\u001b[0;34m\u001b[0m\u001b[0;34m\u001b[0m\u001b[0m\n\u001b[0;32m----> 3\u001b[0;31m   \u001b[0mstr_input\u001b[0m\u001b[0;34m=\u001b[0m\u001b[0minput\u001b[0m\u001b[0;34m(\u001b[0m\u001b[0;34m\"\"\u001b[0m\u001b[0;34m)\u001b[0m\u001b[0;34m\u001b[0m\u001b[0;34m\u001b[0m\u001b[0m\n\u001b[0m",
            "\u001b[0;31mTypeError\u001b[0m: 'str' object is not callable"
          ]
        }
      ]
    },
    {
      "cell_type": "code",
      "source": [
        "## 7.\tWhat is a function in Python and why is it useful? ##\n",
        "## a function is a reusable and self-contained block of code that performs a specific task. ##\n",
        "## Functions are useful in Python for several reasons: ##\n",
        "## Modularity,Reuse of code,etc. ##"
      ],
      "metadata": {
        "id": "fG5FZL5OjpEz"
      },
      "execution_count": null,
      "outputs": []
    },
    {
      "cell_type": "code",
      "source": [
        "## 8.\tCreate a Python function max_of_three that takes three numbers as arguments and returns the largest of them. ##\n",
        "def max_of_three(x,y,z):\n",
        "  if(x>y>z or x>z>y):\n",
        "    return(x);\n",
        "  if(y>x>z or y>z>x):\n",
        "    return(y);\n",
        "  if(z>x>y or z>y>x):\n",
        "    return(z);\n",
        "max_of_three(1,3,4)"
      ],
      "metadata": {
        "colab": {
          "base_uri": "https://localhost:8080/"
        },
        "id": "iIA3VKVlVvGa",
        "outputId": "824306b8-d51b-402e-d1ac-fe8a2ccd577e"
      },
      "execution_count": null,
      "outputs": [
        {
          "output_type": "execute_result",
          "data": {
            "text/plain": [
              "4"
            ]
          },
          "metadata": {},
          "execution_count": 11
        }
      ]
    },
    {
      "cell_type": "code",
      "source": [
        "## 9.\tDescribe a scenario where a lambda function is more advantageous than a traditional function. ##\n",
        "## Lambda functions in Python are anonymous functions. These are similar to functions but these are able to do a single action or task. This is short and easy to write.##"
      ],
      "metadata": {
        "id": "zKckB9ekkOr6"
      },
      "execution_count": null,
      "outputs": []
    },
    {
      "cell_type": "code",
      "source": [
        "## 10.\tWrite a lambda function that reverses a string and apply it to the string “Hello World”. ##\n",
        "rev=lambda str: str[::-1]\n",
        "print(rev(\"Hello world\"))"
      ],
      "metadata": {
        "colab": {
          "base_uri": "https://localhost:8080/"
        },
        "id": "AK-_TKjDVxhz",
        "outputId": "aad465b1-6fe7-4687-e49b-eb474241b460"
      },
      "execution_count": null,
      "outputs": [
        {
          "output_type": "stream",
          "name": "stdout",
          "text": [
            "dlrow olleH\n"
          ]
        }
      ]
    },
    {
      "cell_type": "code",
      "source": [
        "## 11.\tWrite a Python program that accepts a string. It should print “This is a palindrome” if the string is a palindrome and “This is not a palindrome” if it isn’t. Ignore casing and spaces. ##\n",
        "str_input=input(\"enter a string:\")\n",
        "rev_str=str_input[::-1]\n",
        "if (str_input==rev_str):\n",
        "  print(\"this string is a palindrome\")\n",
        "else:\n",
        "  print(\"this string is not a palindrome\")"
      ],
      "metadata": {
        "colab": {
          "base_uri": "https://localhost:8080/",
          "height": 245
        },
        "id": "NzTR9k4dX_Rd",
        "outputId": "3301b893-5ee0-4d84-cb2b-e3673cd3a36b"
      },
      "execution_count": null,
      "outputs": [
        {
          "output_type": "error",
          "ename": "TypeError",
          "evalue": "ignored",
          "traceback": [
            "\u001b[0;31m---------------------------------------------------------------------------\u001b[0m",
            "\u001b[0;31mTypeError\u001b[0m                                 Traceback (most recent call last)",
            "\u001b[0;32m<ipython-input-16-9d45293752d5>\u001b[0m in \u001b[0;36m<cell line: 1>\u001b[0;34m()\u001b[0m\n\u001b[0;32m----> 1\u001b[0;31m \u001b[0mstr_input\u001b[0m\u001b[0;34m=\u001b[0m\u001b[0minput\u001b[0m\u001b[0;34m(\u001b[0m\u001b[0;34m\"enter a string:\"\u001b[0m\u001b[0;34m)\u001b[0m\u001b[0;34m\u001b[0m\u001b[0;34m\u001b[0m\u001b[0m\n\u001b[0m\u001b[1;32m      2\u001b[0m \u001b[0mrev_str\u001b[0m\u001b[0;34m=\u001b[0m\u001b[0mstr_input\u001b[0m\u001b[0;34m[\u001b[0m\u001b[0;34m:\u001b[0m\u001b[0;34m:\u001b[0m\u001b[0;34m-\u001b[0m\u001b[0;36m1\u001b[0m\u001b[0;34m]\u001b[0m\u001b[0;34m\u001b[0m\u001b[0;34m\u001b[0m\u001b[0m\n\u001b[1;32m      3\u001b[0m \u001b[0;32mif\u001b[0m \u001b[0;34m(\u001b[0m\u001b[0mstr_input\u001b[0m\u001b[0;34m==\u001b[0m\u001b[0mrev_str\u001b[0m\u001b[0;34m)\u001b[0m\u001b[0;34m:\u001b[0m\u001b[0;34m\u001b[0m\u001b[0;34m\u001b[0m\u001b[0m\n\u001b[1;32m      4\u001b[0m   \u001b[0mprint\u001b[0m\u001b[0;34m(\u001b[0m\u001b[0;34m\"this string is a palindrome\"\u001b[0m\u001b[0;34m)\u001b[0m\u001b[0;34m\u001b[0m\u001b[0;34m\u001b[0m\u001b[0m\n\u001b[1;32m      5\u001b[0m \u001b[0;32melse\u001b[0m\u001b[0;34m:\u001b[0m\u001b[0;34m\u001b[0m\u001b[0;34m\u001b[0m\u001b[0m\n",
            "\u001b[0;31mTypeError\u001b[0m: 'str' object is not callable"
          ]
        }
      ]
    },
    {
      "cell_type": "code",
      "source": [
        "## 12.\tWrite a Python program using a for loop that asks the user to enter 10 integers and then prints the sum of those integers. ##\n",
        "num=0\n",
        "sum=0\n",
        "for i in range(10):\n",
        "  num=int(input(\"enter a num:\"))\n",
        "  sum=sum+num;\n",
        "print(sum)"
      ],
      "metadata": {
        "colab": {
          "base_uri": "https://localhost:8080/",
          "height": 192
        },
        "id": "53L15nybb9nq",
        "outputId": "cb80f062-a252-466a-c9eb-1d4d6ecfa501"
      },
      "execution_count": null,
      "outputs": [
        {
          "output_type": "error",
          "ename": "TypeError",
          "evalue": "ignored",
          "traceback": [
            "\u001b[0;31m---------------------------------------------------------------------------\u001b[0m",
            "\u001b[0;31mTypeError\u001b[0m                                 Traceback (most recent call last)",
            "\u001b[0;32m<ipython-input-33-f53c11a13aa7>\u001b[0m in \u001b[0;36m<cell line: 2>\u001b[0;34m()\u001b[0m\n\u001b[1;32m      1\u001b[0m \u001b[0mnum\u001b[0m\u001b[0;34m=\u001b[0m\u001b[0;36m0\u001b[0m\u001b[0;34m;\u001b[0m\u001b[0;34m\u001b[0m\u001b[0;34m\u001b[0m\u001b[0m\n\u001b[0;32m----> 2\u001b[0;31m \u001b[0mnum\u001b[0m\u001b[0;34m=\u001b[0m\u001b[0mfloat\u001b[0m\u001b[0;34m(\u001b[0m\u001b[0minput\u001b[0m\u001b[0;34m(\u001b[0m\u001b[0;34m\"enter a num:\"\u001b[0m\u001b[0;34m)\u001b[0m\u001b[0;34m)\u001b[0m\u001b[0;34m\u001b[0m\u001b[0;34m\u001b[0m\u001b[0m\n\u001b[0m",
            "\u001b[0;31mTypeError\u001b[0m: 'str' object is not callable"
          ]
        }
      ]
    },
    {
      "cell_type": "code",
      "source": [
        "## 13.\tImplement a Python program that initializes a counter at 0 and increments it by 2 on each iteration of a while loop until it reaches or exceeds 20. ##\n",
        "num=0;\n",
        "while num<20:\n",
        "  num=num+2;\n",
        "  print(num)"
      ],
      "metadata": {
        "colab": {
          "base_uri": "https://localhost:8080/"
        },
        "id": "VTr3Q6dvdHda",
        "outputId": "31e4b22f-7ca3-4de7-870a-79d0f45282af"
      },
      "execution_count": null,
      "outputs": [
        {
          "output_type": "stream",
          "name": "stdout",
          "text": [
            "2\n",
            "4\n",
            "6\n",
            "8\n",
            "10\n",
            "12\n",
            "14\n",
            "16\n",
            "18\n",
            "20\n"
          ]
        }
      ]
    },
    {
      "cell_type": "code",
      "source": [
        "## 14.\tDefine a Python function factorial that takes a number and returns its factorial. The factorial of a number is the product of all the integers from 1 to that number. ##\n",
        "def fact(x):\n",
        "  factorial=1;\n",
        "  for i in range(1,x+1):\n",
        "    factorial=factorial*i;\n",
        "  return(factorial)\n",
        "print(fact(5))"
      ],
      "metadata": {
        "colab": {
          "base_uri": "https://localhost:8080/"
        },
        "id": "yF5dpNmRdyQU",
        "outputId": "f5487d0f-b5f0-43cc-b49a-e00029144ab4"
      },
      "execution_count": null,
      "outputs": [
        {
          "output_type": "stream",
          "name": "stdout",
          "text": [
            "120\n"
          ]
        }
      ]
    },
    {
      "cell_type": "code",
      "source": [
        "## 15.\tWrite a lambda function to compute the product of two numbers. Use it to calculate the product of 12 and 15. ##\n",
        "product=lambda x,y:x*y;\n",
        "print(product(12,15))"
      ],
      "metadata": {
        "colab": {
          "base_uri": "https://localhost:8080/"
        },
        "id": "rOeo9oVYeSlZ",
        "outputId": "9fd0ef41-3b6e-47d9-d852-67edf01dac76"
      },
      "execution_count": null,
      "outputs": [
        {
          "output_type": "stream",
          "name": "stdout",
          "text": [
            "180\n"
          ]
        }
      ]
    }
  ]
}